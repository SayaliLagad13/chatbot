{
 "cells": [
  {
   "cell_type": "code",
   "execution_count": 1,
   "id": "5b39a3da",
   "metadata": {},
   "outputs": [
    {
     "name": "stdout",
     "output_type": "stream",
     "text": [
      "Chatbot: Hello! How can I assist you today? Type 'goodbye' to exit.\n",
      "You: how are you?\n",
      "Chatbot: I'm just a chatbot, but I'm here to help!\n",
      "You: what is your name?\n",
      "Chatbot: I'm a chatbot, so I don't have a name.\n",
      "You: goodbye\n",
      "Chatbot: Goodbye! Have a great day!\n"
     ]
    }
   ],
   "source": [
    "import random\n",
    "\n",
    "# Define the chatbot's responses\n",
    "responses = {\n",
    "    \"hello\": \"Hello! How can I assist you today?\",\n",
    "    \"how are you\": \"I'm just a chatbot, but I'm here to help!\",\n",
    "    \"what is your name\": \"I'm a chatbot, so I don't have a name.\",\n",
    "    \"goodbye\": \"Goodbye! Have a great day!\",\n",
    "}\n",
    "\n",
    "# Define a function to process user input\n",
    "def chatbot_response(user_input):\n",
    "    user_input = user_input.lower()\n",
    "    \n",
    "    for keyword in responses:\n",
    "        if keyword in user_input:\n",
    "            return responses[keyword]\n",
    "    \n",
    "    return \"I'm sorry, I don't understand that. Can you please rephrase your question?\"\n",
    "\n",
    "# Main loop for interacting with the chatbot\n",
    "print(\"Chatbot: Hello! How can I assist you today? Type 'goodbye' to exit.\")\n",
    "while True:\n",
    "    user_input = input(\"You: \")\n",
    "    \n",
    "    if user_input.lower() == \"goodbye\":\n",
    "        print(\"Chatbot: Goodbye! Have a great day!\")\n",
    "        break\n",
    "\n",
    "    response = chatbot_response(user_input)\n",
    "    print(\"Chatbot:\", response)"
   ]
  },
  {
   "cell_type": "code",
   "execution_count": null,
   "id": "b275d9e5",
   "metadata": {},
   "outputs": [],
   "source": []
  }
 ],
 "metadata": {
  "kernelspec": {
   "display_name": "Python 3 (ipykernel)",
   "language": "python",
   "name": "python3"
  },
  "language_info": {
   "codemirror_mode": {
    "name": "ipython",
    "version": 3
   },
   "file_extension": ".py",
   "mimetype": "text/x-python",
   "name": "python",
   "nbconvert_exporter": "python",
   "pygments_lexer": "ipython3",
   "version": "3.9.13"
  }
 },
 "nbformat": 4,
 "nbformat_minor": 5
}
